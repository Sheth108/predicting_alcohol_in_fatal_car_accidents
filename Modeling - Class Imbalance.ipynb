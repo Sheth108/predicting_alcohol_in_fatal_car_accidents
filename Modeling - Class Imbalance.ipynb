{
 "cells": [
  {
   "cell_type": "code",
   "execution_count": 1,
   "metadata": {},
   "outputs": [],
   "source": [
    "import pickle as pkl\n",
    "import pandas as pd\n",
    "import matplotlib.pyplot as plt\n",
    "from sklearn.neighbors import KNeighborsClassifier\n",
    "from sklearn import metrics\n",
    "from sklearn.model_selection import train_test_split\n",
    "from sklearn.model_selection import GridSearchCV\n",
    "from sklearn.model_selection import cross_val_score\n",
    "import imblearn.over_sampling\n",
    "import imblearn.under_sampling\n",
    "from sklearn.linear_model import LogisticRegression\n",
    "from sklearn.svm import SVC\n",
    "from sklearn.svm import LinearSVC\n",
    "from sklearn.datasets import load_wine\n",
    "from sklearn.tree import DecisionTreeClassifier\n",
    "from sklearn.ensemble import RandomForestClassifier, BaggingClassifier\n",
    "import xgboost as xgb\n",
    "from sklearn.metrics import confusion_matrix\n",
    "import seaborn as sn\n",
    "%matplotlib inline\n",
    "import warnings\n",
    "warnings.filterwarnings('ignore')"
   ]
  },
  {
   "cell_type": "code",
   "execution_count": 2,
   "metadata": {},
   "outputs": [],
   "source": [
    "# get df pickle file\n",
    "with open(\"FatalAccidents\", 'rb') as picklefile: \n",
    "    df = pkl.load(picklefile)"
   ]
  },
  {
   "cell_type": "code",
   "execution_count": 3,
   "metadata": {},
   "outputs": [],
   "source": [
    "# grid search for best k-parameter with kNN and 10-fold cross-validation with the best model and get f1 score\n",
    "def getParams(X_train_adjusted, y_train_adjusted, model, param_grid):\n",
    "    grid = GridSearchCV(model, param_grid, cv=5, scoring='f1')\n",
    "    grid.fit(X_train_adjusted, y_train_adjusted)\n",
    "    print(grid.best_params_)\n",
    "    return grid\n",
    "\n",
    "def getF1Score(bestEstimator, X_train_adjusted, y_train_adjusted, X_test, y_test, model):\n",
    "    print(cross_val_score(bestEstimator, X_train_adjusted, y_train_adjusted, cv=10, scoring='f1').mean())\n",
    "    myModel = model.fit(X_train_adjusted, y_train_adjusted)\n",
    "    y_pred = myModel.predict(X_test)\n",
    "    print(metrics.f1_score(y_test, y_pred))\n",
    "    return metrics.f1_score(y_test, y_pred)"
   ]
  },
  {
   "cell_type": "code",
   "execution_count": 10,
   "metadata": {},
   "outputs": [],
   "source": [
    "# make drunk/sober categorical\n",
    "df['Drunk'] = np.where(df['DRUNK_DRIVER'] == 'Drunk', 1, 0)"
   ]
  },
  {
   "cell_type": "code",
   "execution_count": 11,
   "metadata": {},
   "outputs": [],
   "source": [
    "# define X matrix and y vector\n",
    "X = df.drop(columns=['DRUNK_DRIVER', 'Drunk'])\n",
    "y = df['Drunk']"
   ]
  },
  {
   "cell_type": "code",
   "execution_count": 12,
   "metadata": {},
   "outputs": [],
   "source": [
    "# train test split!\n",
    "X_train, X_test, y_train, y_test = train_test_split(X, y, test_size=0.2, random_state=45)"
   ]
  },
  {
   "cell_type": "code",
   "execution_count": 13,
   "metadata": {},
   "outputs": [
    {
     "data": {
      "text/plain": [
       "0    9067\n",
       "1    2032\n",
       "Name: Drunk, dtype: int64"
      ]
     },
     "execution_count": 13,
     "metadata": {},
     "output_type": "execute_result"
    }
   ],
   "source": [
    "# determine what my current ratio is for classes in y vector\n",
    "y_train.value_counts()"
   ]
  },
  {
   "cell_type": "markdown",
   "metadata": {},
   "source": [
    "## Naive Oversampling"
   ]
  },
  {
   "cell_type": "code",
   "execution_count": 15,
   "metadata": {},
   "outputs": [],
   "source": [
    "# determine samples for each class and get train samples\n",
    "ROS = imblearn.over_sampling.RandomOverSampler(ratio={0:9067,1:2032*4}, random_state=10)\n",
    "X_train_ROS, y_train_ROS = ROS.fit_sample(X_train, y_train)"
   ]
  },
  {
   "cell_type": "code",
   "execution_count": null,
   "metadata": {},
   "outputs": [],
   "source": [
    "# get best params and F1 score for ROS kNN - n_neighbors=1\n",
    "knn = KNeighborsClassifier()\n",
    "param_grid = {'n_neighbors': list(range(1,30))}\n",
    "kNNROSGrid = getParams(X_train_ROS, y_train_ROS, knn, param_grid)\n",
    "kNNROSScore = getF1Score(kNNROSGrid.best_estimator_, X_train_ROS, y_train_ROS, X_test, y_test, knn)"
   ]
  },
  {
   "cell_type": "code",
   "execution_count": 17,
   "metadata": {},
   "outputs": [
    {
     "name": "stdout",
     "output_type": "stream",
     "text": [
      "{'C': 0.1}\n",
      "0.7129202366041648\n",
      "0.5135699373695198\n"
     ]
    }
   ],
   "source": [
    "# get best params and F1 score for ROS logistic regression - C=0.1 - heavily overfitting\n",
    "lr = LogisticRegression(penalty='l1')\n",
    "param_grid = {'C': [0.1]}\n",
    "lrROSGrid = getParams(X_train_ROS, y_train_ROS, lr, param_grid)\n",
    "lrROSScore = getF1Score(lrROSGrid.best_estimator_, X_train_ROS, y_train_ROS, X_test, y_test, lr)"
   ]
  },
  {
   "cell_type": "code",
   "execution_count": null,
   "metadata": {},
   "outputs": [],
   "source": [
    "# get best params and F1 score for ROS SVC - C=1, gamma=5\n",
    "svc = SVC(kernel = 'rbf')\n",
    "param_grid = {'C':[50, 100, 150], 'gamma': [1e2, 1e4, 1e6]}\n",
    "svcROSGrid = getParams(X_train_ROS, y_train_ROS, svc, param_grid)\n",
    "svcROSScore = getF1Score(svcROSGrid.best_estimator_, X_train_ROS, y_train_ROS, X_test, y_test, svc)"
   ]
  },
  {
   "cell_type": "code",
   "execution_count": null,
   "metadata": {},
   "outputs": [],
   "source": [
    "# get best params and F1 score for ROS linear svc - C=0.03\n",
    "linsvc = SVC(kernel = 'linear')\n",
    "param_grid = {'C':[0.025, 0.03, 0.035]}\n",
    "linsvcROSGrid = getParams(X_train_ROS, y_train_ROS, linsvc, param_grid)\n",
    "linsvcROSScore = getF1Score(linsvcROSGrid.best_estimator_, X_train_ROS, y_train_ROS, X_test, y_test, linsvc)"
   ]
  },
  {
   "cell_type": "code",
   "execution_count": null,
   "metadata": {},
   "outputs": [],
   "source": [
    "print(kNNROSScore, lrROSScore, svcROSScore, linsvcROSScore)"
   ]
  },
  {
   "cell_type": "markdown",
   "metadata": {},
   "source": [
    "## Synthetic Oversampling"
   ]
  },
  {
   "cell_type": "code",
   "execution_count": 18,
   "metadata": {},
   "outputs": [],
   "source": [
    "# determine samples for each class and get train samples\n",
    "smote = imblearn.over_sampling.SMOTE(ratio={0:9067,1:2032*4}, random_state=10)\n",
    "X_train_smote, y_train_smote = smote.fit_sample(X_train, y_train)"
   ]
  },
  {
   "cell_type": "code",
   "execution_count": 19,
   "metadata": {},
   "outputs": [
    {
     "name": "stdout",
     "output_type": "stream",
     "text": [
      "{'n_neighbors': 21}\n",
      "0.678405304173567\n",
      "0.48534936138241913\n"
     ]
    }
   ],
   "source": [
    "# get best params and F1 score for smote kNN - n_neighbors=21 - heavily overfitting\n",
    "knn = KNeighborsClassifier()\n",
    "param_grid = {'n_neighbors': list(range(1,30))}\n",
    "kNNsmoteGrid = getParams(X_train_smote, y_train_smote, knn, param_grid)\n",
    "kNNsmoteScore = getF1Score(kNNsmoteGrid.best_estimator_, X_train_smote, y_train_smote, X_test, y_test, knn)"
   ]
  },
  {
   "cell_type": "code",
   "execution_count": null,
   "metadata": {},
   "outputs": [],
   "source": [
    "# get best params and F1 score for smote logistic regression - C=0.1\n",
    "lr = LogisticRegression(penalty='l2')\n",
    "param_grid = {'C': [0.04, 0.05, 0.06, 0.15]}\n",
    "lrSmoteGrid = getParams(X_train_smote, y_train_smote, lr, param_grid)\n",
    "lrSmoteScore = getF1Score(lrsmoteGrid.best_estimator_, X_train_smote, y_train_smote, X_test, y_test, lr)"
   ]
  },
  {
   "cell_type": "code",
   "execution_count": null,
   "metadata": {},
   "outputs": [],
   "source": [
    "# get best params and F1 score for smote SVC - C=7, gamma=0.15\n",
    "svc = SVC(kernel = 'rbf')\n",
    "param_grid = {'C':[6, 7, 8], 'gamma': [0.1, 0.15, 0.2]}\n",
    "svcSmoteGrid = getParams(X_train_smote, y_train_smote, svc, param_grid)\n",
    "svcSmoteScore = getF1Score(svcSmoteGrid.best_estimator_, X_train_smote, y_train_smote, X_test, y_test, svc)"
   ]
  },
  {
   "cell_type": "code",
   "execution_count": null,
   "metadata": {},
   "outputs": [],
   "source": [
    "# get best params and F1 score for smote linear svc - C=0.005\n",
    "linsvc = SVC(kernel = 'linear')\n",
    "param_grid = {'C':[0.002, 0.005, 0.008]}\n",
    "linsvcSmoteGrid = getParams(X_train_smote, y_train_smote, linsvc, param_grid)\n",
    "linsvcSmoteScore = getF1Score(linsvcSmoteGrid.best_estimator_, X_train_smote, y_train_smote, X_test, y_test, linsvc)"
   ]
  },
  {
   "cell_type": "code",
   "execution_count": null,
   "metadata": {},
   "outputs": [],
   "source": [
    "print(kNNsmoteScore, lrSmoteScore, svcSmoteScore, linsvcSmoteScore)"
   ]
  },
  {
   "cell_type": "markdown",
   "metadata": {},
   "source": [
    "## Undersampling"
   ]
  },
  {
   "cell_type": "code",
   "execution_count": 21,
   "metadata": {},
   "outputs": [],
   "source": [
    "# determine samples for each class and get train samples\n",
    "RUS = imblearn.under_sampling.RandomUnderSampler(ratio={0:int(9067*.25),1:2032}, random_state = 32)\n",
    "X_train_RUS, y_train_RUS = RUS.fit_sample(X_train,y_train)"
   ]
  },
  {
   "cell_type": "code",
   "execution_count": null,
   "metadata": {},
   "outputs": [],
   "source": [
    "# get best params and F1 score for RUS kNN - n_neighbors=15\n",
    "knn = KNeighborsClassifier()\n",
    "param_grid = {'n_neighbors': list(range(1,30))}\n",
    "kNNRUSGrid = getParams(X_train_RUS, y_train_RUS, knn, param_grid)\n",
    "kNNRUSScore = getF1Score(kNNRUSGrid.best_estimator_, X_train_RUS, y_train_RUS, X_test, y_test, knn)"
   ]
  },
  {
   "cell_type": "code",
   "execution_count": 22,
   "metadata": {},
   "outputs": [
    {
     "name": "stdout",
     "output_type": "stream",
     "text": [
      "{'C': 2}\n",
      "0.7098725659981461\n",
      "0.5125000000000001\n"
     ]
    }
   ],
   "source": [
    "# get best params and F1 score for RUS logistic regression - C=2 - heavily overfitting\n",
    "lr = LogisticRegression()\n",
    "param_grid = {'C': [2]}\n",
    "lrRUSGrid = getParams(X_train_RUS, y_train_RUS, lr, param_grid)\n",
    "lrRUSScore = getF1Score(lrRUSGrid.best_estimator_, X_train_RUS, y_train_RUS, X_test, y_test, lr)"
   ]
  },
  {
   "cell_type": "code",
   "execution_count": null,
   "metadata": {},
   "outputs": [],
   "source": [
    "# get best params and F1 score for RUS SVC - C=60, gamma=0.0008\n",
    "svc = SVC(kernel = 'rbf')\n",
    "param_grid = {'C':[40, 50, 60], 'gamma': [0.0008, 0.001, 0.0012]}\n",
    "svcRUSGrid = getParams(X_train_RUS, y_train_RUS, svc, param_grid)\n",
    "svcRUSScore = getF1Score(svcSmoteGrid.best_estimator_, X_train_RUS, y_train_RUS, X_test, y_test, svc)"
   ]
  },
  {
   "cell_type": "code",
   "execution_count": null,
   "metadata": {},
   "outputs": [],
   "source": [
    "# get best params and F1 score for RUS linear svc - C=5\n",
    "linsvc = SVC(kernel = 'linear')\n",
    "param_grid = {'C':[4, 5, 6]}\n",
    "linsvcRUSGrid = getParams(X_train_RUS, y_train_RUS, linsvc, param_grid)\n",
    "linsvcRUSScore = getF1Score(linsvcRUSGrid.best_estimator_, X_train_RUS, y_train_RUS, X_test, y_test, linsvc)"
   ]
  },
  {
   "cell_type": "code",
   "execution_count": null,
   "metadata": {},
   "outputs": [],
   "source": [
    "print(kNNRUSScore, lrRUSScore, svcRUSScore, linsvcRUSScore)"
   ]
  },
  {
   "cell_type": "markdown",
   "metadata": {},
   "source": [
    "## Class Weights"
   ]
  },
  {
   "cell_type": "code",
   "execution_count": 23,
   "metadata": {},
   "outputs": [
    {
     "name": "stdout",
     "output_type": "stream",
     "text": [
      "{'C': 0.03}\n",
      "0.5024092223561769\n",
      "0.5135699373695198\n"
     ]
    }
   ],
   "source": [
    "# get best params and F1 score for weights logistic regression - C=0.03\n",
    "lrWeight = LogisticRegression(class_weight={0:1, 1:4})\n",
    "param_grid = {'C': [0.03]}\n",
    "lrWeightGrid = getParams(X_train, y_train, lrWeight, param_grid)\n",
    "lrWeightScore = getF1Score(lrWeightGrid.best_estimator_, X_train, y_train, X_test, y_test, lrWeight)"
   ]
  },
  {
   "cell_type": "code",
   "execution_count": null,
   "metadata": {},
   "outputs": [],
   "source": [
    "# get best params and F1 score for weights SVC - C=3, gamma=0.002\n",
    "svcWeight = SVC(kernel='rbf', class_weight={0:1, 1:4})\n",
    "param_grid = {'C':[2, 3, 4], 'gamma': [0.001, 0.002, 0.003]}\n",
    "svcWeightGrid = getParams(X_train, y_train, svcWeight, param_grid)\n",
    "svcWeightScore = getF1Score(svcWeightGrid.best_estimator_, X_train, y_train, X_test, y_test, svcWeight)"
   ]
  },
  {
   "cell_type": "code",
   "execution_count": null,
   "metadata": {},
   "outputs": [],
   "source": [
    "# get best params and F1 score for weights linear svc - C=?\n",
    "linearsvcWeight = SVC(kernel='linear', class_weight={0:1, 1:4})\n",
    "param_grid = {'C':[0.1, 1, 10]}\n",
    "linearsvcWeightGrid = getParams(X_train, y_train, linearsvcWeight, param_grid)\n",
    "linearsvcWeightScore = getF1Score(linearsvcWeightGrid.best_estimator_, X_train, y_train, X_test, y_test, linearsvcWeight)"
   ]
  },
  {
   "cell_type": "markdown",
   "metadata": {},
   "source": [
    "## Decision Tree & Random Forests"
   ]
  },
  {
   "cell_type": "code",
   "execution_count": 26,
   "metadata": {},
   "outputs": [
    {
     "name": "stdout",
     "output_type": "stream",
     "text": [
      "0.49732855481360205\n",
      "0.4821002386634845\n"
     ]
    }
   ],
   "source": [
    "# get f1 score for decision tree classifier\n",
    "dt = DecisionTreeClassifier(max_depth=5)\n",
    "dt.fit(X_train, y_train)\n",
    "y_pred = dt.predict(X_test)\n",
    "print(cross_val_score(dt, X_train, y_train, cv=10, scoring='f1').mean())\n",
    "print(metrics.f1_score(y_test, y_pred))"
   ]
  },
  {
   "cell_type": "code",
   "execution_count": 27,
   "metadata": {},
   "outputs": [
    {
     "name": "stdout",
     "output_type": "stream",
     "text": [
      "0.49379441023652076\n",
      "0.5056947608200456\n"
     ]
    }
   ],
   "source": [
    "# get f1 score for decision tree using bagging classifier \n",
    "bc = BaggingClassifier(base_estimator=DecisionTreeClassifier(max_depth=6), n_estimators=50, n_jobs=-1)\n",
    "bc.fit(X_train, y_train)\n",
    "y_pred = bc.predict(X_test)\n",
    "print(cross_val_score(bc, X_train, y_train, cv=10, scoring='f1').mean())\n",
    "print(metrics.f1_score(y_test, y_pred))"
   ]
  },
  {
   "cell_type": "code",
   "execution_count": 28,
   "metadata": {},
   "outputs": [
    {
     "name": "stdout",
     "output_type": "stream",
     "text": [
      "{'n_estimators': 2, 'n_jobs': 8}\n",
      "0.21561729605224328\n",
      "0.1423611111111111\n"
     ]
    }
   ],
   "source": [
    "# get f1 score for random forest\n",
    "rf = RandomForestClassifier(max_depth=2)\n",
    "param_grid = {'n_estimators': list(range(1,30)), 'n_jobs': list(range(1,10))}\n",
    "rfGrid = getParams(X_train, y_train, rf, param_grid)\n",
    "rfScore = getF1Score(rfGrid.best_estimator_, X_train, y_train, X_test, y_test, rf)"
   ]
  },
  {
   "cell_type": "code",
   "execution_count": 29,
   "metadata": {},
   "outputs": [],
   "source": [
    "# get matrices for XGB\n",
    "X_train, X_test, y_train, y_test = train_test_split(X, y, test_size=0.2, random_state=2018)\n",
    "X_train, X_val, y_train, y_val = train_test_split(X_train, y_train, test_size=0.25, random_state=2019)"
   ]
  },
  {
   "cell_type": "code",
   "execution_count": 30,
   "metadata": {},
   "outputs": [
    {
     "name": "stdout",
     "output_type": "stream",
     "text": [
      "[0]\tvalidation_0-auc:0.818319\tvalidation_1-auc:0.801375\n",
      "Multiple eval metrics have been passed: 'validation_1-auc' will be used for early stopping.\n",
      "\n",
      "Will train until validation_1-auc hasn't improved in 50 rounds.\n",
      "[1]\tvalidation_0-auc:0.287039\tvalidation_1-auc:0.287843\n",
      "[2]\tvalidation_0-auc:0.691162\tvalidation_1-auc:0.703665\n",
      "[3]\tvalidation_0-auc:0.510828\tvalidation_1-auc:0.51627\n",
      "[4]\tvalidation_0-auc:0.623915\tvalidation_1-auc:0.623644\n",
      "[5]\tvalidation_0-auc:0.644819\tvalidation_1-auc:0.666638\n",
      "[6]\tvalidation_0-auc:0.5\tvalidation_1-auc:0.5\n",
      "[7]\tvalidation_0-auc:0.5\tvalidation_1-auc:0.5\n",
      "[8]\tvalidation_0-auc:0.5\tvalidation_1-auc:0.5\n",
      "[9]\tvalidation_0-auc:0.5\tvalidation_1-auc:0.5\n",
      "[10]\tvalidation_0-auc:0.5\tvalidation_1-auc:0.5\n",
      "[11]\tvalidation_0-auc:0.5\tvalidation_1-auc:0.5\n",
      "[12]\tvalidation_0-auc:0.5\tvalidation_1-auc:0.5\n",
      "[13]\tvalidation_0-auc:0.5\tvalidation_1-auc:0.5\n",
      "[14]\tvalidation_0-auc:0.5\tvalidation_1-auc:0.5\n",
      "[15]\tvalidation_0-auc:0.5\tvalidation_1-auc:0.5\n",
      "[16]\tvalidation_0-auc:0.5\tvalidation_1-auc:0.5\n",
      "[17]\tvalidation_0-auc:0.5\tvalidation_1-auc:0.5\n",
      "[18]\tvalidation_0-auc:0.5\tvalidation_1-auc:0.5\n",
      "[19]\tvalidation_0-auc:0.5\tvalidation_1-auc:0.5\n",
      "[20]\tvalidation_0-auc:0.5\tvalidation_1-auc:0.5\n",
      "[21]\tvalidation_0-auc:0.5\tvalidation_1-auc:0.5\n",
      "[22]\tvalidation_0-auc:0.556398\tvalidation_1-auc:0.5692\n",
      "[23]\tvalidation_0-auc:0.5\tvalidation_1-auc:0.5\n",
      "[24]\tvalidation_0-auc:0.5\tvalidation_1-auc:0.5\n",
      "[25]\tvalidation_0-auc:0.5\tvalidation_1-auc:0.5\n",
      "[26]\tvalidation_0-auc:0.5\tvalidation_1-auc:0.5\n",
      "[27]\tvalidation_0-auc:0.5\tvalidation_1-auc:0.5\n",
      "[28]\tvalidation_0-auc:0.5\tvalidation_1-auc:0.5\n",
      "[29]\tvalidation_0-auc:0.5\tvalidation_1-auc:0.5\n",
      "[30]\tvalidation_0-auc:0.5\tvalidation_1-auc:0.5\n",
      "[31]\tvalidation_0-auc:0.62209\tvalidation_1-auc:0.623137\n",
      "[32]\tvalidation_0-auc:0.5\tvalidation_1-auc:0.5\n",
      "[33]\tvalidation_0-auc:0.5\tvalidation_1-auc:0.5\n",
      "[34]\tvalidation_0-auc:0.5\tvalidation_1-auc:0.5\n",
      "[35]\tvalidation_0-auc:0.5\tvalidation_1-auc:0.5\n",
      "[36]\tvalidation_0-auc:0.5\tvalidation_1-auc:0.5\n",
      "[37]\tvalidation_0-auc:0.632955\tvalidation_1-auc:0.651442\n",
      "[38]\tvalidation_0-auc:0.5\tvalidation_1-auc:0.5\n",
      "[39]\tvalidation_0-auc:0.5\tvalidation_1-auc:0.5\n",
      "[40]\tvalidation_0-auc:0.5\tvalidation_1-auc:0.5\n",
      "[41]\tvalidation_0-auc:0.5\tvalidation_1-auc:0.5\n",
      "[42]\tvalidation_0-auc:0.5\tvalidation_1-auc:0.5\n",
      "[43]\tvalidation_0-auc:0.57962\tvalidation_1-auc:0.59806\n",
      "[44]\tvalidation_0-auc:0.5\tvalidation_1-auc:0.5\n",
      "[45]\tvalidation_0-auc:0.5\tvalidation_1-auc:0.5\n",
      "[46]\tvalidation_0-auc:0.5\tvalidation_1-auc:0.5\n",
      "[47]\tvalidation_0-auc:0.5\tvalidation_1-auc:0.5\n",
      "[48]\tvalidation_0-auc:0.5\tvalidation_1-auc:0.5\n",
      "[49]\tvalidation_0-auc:0.5\tvalidation_1-auc:0.5\n",
      "[50]\tvalidation_0-auc:0.5\tvalidation_1-auc:0.5\n",
      "Stopping. Best iteration:\n",
      "[0]\tvalidation_0-auc:0.818319\tvalidation_1-auc:0.801375\n",
      "\n"
     ]
    }
   ],
   "source": [
    "# run XGB and adjust parameters for best results and get probabilities for y-predictions\n",
    "gbm = xgb.XGBRegressor( \n",
    "                       n_estimators=30000, #arbitrary large number b/c we're using early stopping\n",
    "                       max_depth=12,\n",
    "                       objective=\"reg:logistic\",\n",
    "                       learning_rate=3, \n",
    "                       subsample=1,\n",
    "                       min_child_weight=3,\n",
    "                       colsample_bytree=.8\n",
    "                      )\n",
    "\n",
    "eval_set=[(X_train,y_train),(X_val,y_val)] #tracking train/validation error as we go\n",
    "fit_model = gbm.fit( \n",
    "                    X_train, y_train, \n",
    "                    eval_set=eval_set,\n",
    "                    eval_metric='auc',\n",
    "                    early_stopping_rounds=50, # stop when validation error hasn't improved in this many rounds\n",
    "                    verbose=True #gives output log as below\n",
    "                   )\n",
    "y_pred = fit_model.predict(X_test)"
   ]
  },
  {
   "cell_type": "code",
   "execution_count": 31,
   "metadata": {},
   "outputs": [
    {
     "data": {
      "text/plain": [
       "<matplotlib.axes._subplots.AxesSubplot at 0x1a1b021d30>"
      ]
     },
     "execution_count": 31,
     "metadata": {},
     "output_type": "execute_result"
    },
    {
     "data": {
      "image/png": "[encoded data removed]",
      "text/plain": [
       "<Figure size 432x288 with 1 Axes>"
      ]
     },
     "metadata": {},
     "output_type": "display_data"
    },
    {
     "data": {
      "image/png": "[encoded data removed]",
      "text/plain": [
       "<Figure size 432x288 with 1 Axes>"
      ]
     },
     "metadata": {},
     "output_type": "display_data"
    }
   ],
   "source": [
    "# see which features are most important\n",
    "xgb.plot_importance(gbm)\n",
    "xgb.plot_importance(gbm, importance_type='gain')"
   ]
  },
  {
   "cell_type": "code",
   "execution_count": 59,
   "metadata": {},
   "outputs": [],
   "source": [
    "# convert probabilities in y_pred to classifications and get f1 scores for both train and test sets\n",
    "def getAccuracyAndF1ScoreXGB(myModel, X_train, y_train, X_test, y_test, threshold=0.5):\n",
    "    #print(cross_val_score(myModel, X_train_adjusted, y_train_adjusted, cv=10, scoring='f1').mean())\n",
    "    y_train_pred = myModel.predict(X_train)\n",
    "    y_test_pred = myModel.predict(X_test)\n",
    "    train_predictions = []\n",
    "    test_predictions = []\n",
    "    for value in y_train_pred:\n",
    "        if value >= threshold:\n",
    "            train_predictions.append(1)\n",
    "        else:\n",
    "            train_predictions.append(0)\n",
    "    for value in y_test_pred:\n",
    "        if value >= threshold:\n",
    "            test_predictions.append(1)\n",
    "        else:\n",
    "            test_predictions.append(0)\n",
    "    #print(metrics.f1_score(y_train, train_predictions), metrics.accuracy_score(y_train, train_predictions))\n",
    "    #print(metrics.f1_score(y_test, test_predictions), metrics.accuracy_score(y_test, test_predictions))\n",
    "    return y_test_pred, metrics.f1_score(y_test, test_predictions)"
   ]
  },
  {
   "cell_type": "code",
   "execution_count": 61,
   "metadata": {},
   "outputs": [],
   "source": [
    "# get list of f1 scores and accuracies with regards to different thresholds in order to graph them\n",
    "thresholds, XGBScores, accuracy, allPredictions = [], [], [], []\n",
    "for num in range(0,100,1):\n",
    "    threshold = num/100\n",
    "    XGBPred, XGBScore = getAccuracyAndF1ScoreXGB(fit_model, X_train, y_train, X_test, y_test, threshold)\n",
    "    thresholds.append(threshold)\n",
    "    XGBScores.append(XGBScore)\n",
    "    test_predictions = []\n",
    "    for value in XGBPred:\n",
    "        if value >= threshold:\n",
    "            test_predictions.append(1)\n",
    "        else:\n",
    "            test_predictions.append(0)\n",
    "    accuracy.append(metrics.accuracy_score(y_test, test_predictions))\n",
    "    allPredictions.append(test_predictions)"
   ]
  },
  {
   "cell_type": "code",
   "execution_count": 47,
   "metadata": {},
   "outputs": [
    {
     "data": {
      "image/png": "[encoded data removed]",
      "text/plain": [
       "<Figure size 432x288 with 1 Axes>"
      ]
     },
     "metadata": {},
     "output_type": "display_data"
    }
   ],
   "source": [
    "# graph f1 score, accuracies with regards to thresholds\n",
    "fig = plt.figure()\n",
    "ax = fig.add_subplot(111)\n",
    "ax.plot(thresholds, XGBScores, label='F1 Score')\n",
    "ax.plot(thresholds, accuracy, label='Accuracy')\n",
    "\n",
    "# naming the x axis \n",
    "plt.xlabel('Threshold') \n",
    "# naming the y axis \n",
    "h = plt.ylabel('F1 Score/Accuracy', labelpad=50) \n",
    "h.set_rotation(0)\n",
    "# giving a title to my graph \n",
    "plt.title('Threshold vs. F1 Score/Accuracy') \n",
    "  \n",
    "# show a legend on the plot \n",
    "plt.legend() \n",
    "  \n",
    "# function to show the plot \n",
    "plt.show() \n",
    "#plt.savefig('threshold.png')"
   ]
  },
  {
   "cell_type": "code",
   "execution_count": 67,
   "metadata": {},
   "outputs": [],
   "source": [
    "# find threshold with highest f1 score\n",
    "bestThreshold = thresholds[XGBScores.index(max(XGBScores))]\n",
    "\n",
    "# get binary predictions for total X matrix\n",
    "y_pred = []\n",
    "y_prob = fit_model.predict(X)\n",
    "for value in y_prob:\n",
    "    if value >= bestThreshold:\n",
    "        y_pred.append(1)\n",
    "    else:\n",
    "        y_pred.append(0)"
   ]
  },
  {
   "cell_type": "code",
   "execution_count": null,
   "metadata": {},
   "outputs": [],
   "source": [
    "# Compute nice confusion matrix\n",
    "cnf_matrix = confusion_matrix(y, y_pred)\n",
    "sn.heatmap(cnf_matrix, cmap='Blues', annot=True, fmt='g')"
   ]
  }
 ],
 "metadata": {
  "kernelspec": {
   "display_name": "Python 3",
   "language": "python",
   "name": "python3"
  },
  "language_info": {
   "codemirror_mode": {
    "name": "ipython",
    "version": 3
   },
   "file_extension": ".py",
   "mimetype": "text/x-python",
   "name": "python",
   "nbconvert_exporter": "python",
   "pygments_lexer": "ipython3",
   "version": "3.6.6"
  },
  "toc": {
   "base_numbering": 1,
   "nav_menu": {},
   "number_sections": true,
   "sideBar": true,
   "skip_h1_title": false,
   "title_cell": "Table of Contents",
   "title_sidebar": "Contents",
   "toc_cell": false,
   "toc_position": {},
   "toc_section_display": true,
   "toc_window_display": false
  },
  "varInspector": {
   "cols": {
    "lenName": 16,
    "lenType": 16,
    "lenVar": 40
   },
   "kernels_config": {
    "python": {
     "delete_cmd_postfix": "",
     "delete_cmd_prefix": "del ",
     "library": "var_list.py",
     "varRefreshCmd": "print(var_dic_list())"
    },
    "r": {
     "delete_cmd_postfix": ") ",
     "delete_cmd_prefix": "rm(",
     "library": "var_list.r",
     "varRefreshCmd": "cat(var_dic_list()) "
    }
   },
   "types_to_exclude": [
    "module",
    "function",
    "builtin_function_or_method",
    "instance",
    "_Feature"
   ],
   "window_display": false
  }
 },
 "nbformat": 4,
 "nbformat_minor": 2
}
